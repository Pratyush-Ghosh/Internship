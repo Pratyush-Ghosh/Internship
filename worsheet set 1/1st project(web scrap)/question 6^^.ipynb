{
 "cells": [
  {
   "cell_type": "markdown",
   "id": "fb1c0bd9",
   "metadata": {},
   "source": [
    "a) Top 10 ODI teams in women’s cricket along with the records for matches, points and ratin"
   ]
  },
  {
   "cell_type": "code",
   "execution_count": 1,
   "id": "bc7bd033",
   "metadata": {},
   "outputs": [],
   "source": [
    "from bs4 import BeautifulSoup\n",
    "import requests\n",
    "import pandas as pd"
   ]
  },
  {
   "cell_type": "code",
   "execution_count": 4,
   "id": "4c2b101a",
   "metadata": {},
   "outputs": [],
   "source": [
    "url1='https://www.icc-cricket.com/rankings/womens/team-rankings/odi'\n",
    "soup1=requests.get(url1)\n",
    "odi=BeautifulSoup(soup1.content)\n",
    "game=odi.find_all('tr',{'class':'table-body'})"
   ]
  },
  {
   "cell_type": "code",
   "execution_count": 5,
   "id": "b8d7d76e",
   "metadata": {},
   "outputs": [],
   "source": [
    "country=[]\n",
    "rate=[]\n",
    "for i in game:\n",
    "    country.append(i.find('span',{\"class\":\"u-hide-phablet\"}).text)\n",
    "for i in game:\n",
    "    rate.append(i.find('td',{'class':\"table-body__cell u-text-right rating\"}).text)"
   ]
  },
  {
   "cell_type": "code",
   "execution_count": 6,
   "id": "1d377828",
   "metadata": {},
   "outputs": [],
   "source": [
    "total=[]\n",
    "for i in odi.find_all('td',{\"class\":\"table-body__cell u-center-text\"}):\n",
    "    total.append(i.text)\n",
    "matches = []\n",
    "for i in range(0,len(total),2):\n",
    "    matches.append(total[i])\n",
    "pts = []\n",
    "for i in range(1,len(total),2):\n",
    "    pts.append(total[i])"
   ]
  },
  {
   "cell_type": "code",
   "execution_count": 7,
   "id": "a6f67200",
   "metadata": {},
   "outputs": [],
   "source": [
    "dataset=list(zip(country,rate,matches,pts))[:10]\n",
    "dd=pd.DataFrame(dataset,columns=['Team','matches','points','rating'])"
   ]
  },
  {
   "cell_type": "code",
   "execution_count": 8,
   "id": "0c94f537",
   "metadata": {},
   "outputs": [
    {
     "data": {
      "text/html": [
       "<div>\n",
       "<style scoped>\n",
       "    .dataframe tbody tr th:only-of-type {\n",
       "        vertical-align: middle;\n",
       "    }\n",
       "\n",
       "    .dataframe tbody tr th {\n",
       "        vertical-align: top;\n",
       "    }\n",
       "\n",
       "    .dataframe thead th {\n",
       "        text-align: right;\n",
       "    }\n",
       "</style>\n",
       "<table border=\"1\" class=\"dataframe\">\n",
       "  <thead>\n",
       "    <tr style=\"text-align: right;\">\n",
       "      <th></th>\n",
       "      <th>Team</th>\n",
       "      <th>matches</th>\n",
       "      <th>points</th>\n",
       "      <th>rating</th>\n",
       "    </tr>\n",
       "  </thead>\n",
       "  <tbody>\n",
       "    <tr>\n",
       "      <th>0</th>\n",
       "      <td>South Africa</td>\n",
       "      <td>121</td>\n",
       "      <td>19</td>\n",
       "      <td>2,307</td>\n",
       "    </tr>\n",
       "    <tr>\n",
       "      <th>1</th>\n",
       "      <td>England</td>\n",
       "      <td>119</td>\n",
       "      <td>18</td>\n",
       "      <td>2,148</td>\n",
       "    </tr>\n",
       "    <tr>\n",
       "      <th>2</th>\n",
       "      <td>India</td>\n",
       "      <td>112</td>\n",
       "      <td>17</td>\n",
       "      <td>1,899</td>\n",
       "    </tr>\n",
       "    <tr>\n",
       "      <th>3</th>\n",
       "      <td>Bangladesh</td>\n",
       "      <td>95</td>\n",
       "      <td>5</td>\n",
       "      <td>475</td>\n",
       "    </tr>\n",
       "    <tr>\n",
       "      <th>4</th>\n",
       "      <td>New Zealand</td>\n",
       "      <td>88</td>\n",
       "      <td>19</td>\n",
       "      <td>1,668</td>\n",
       "    </tr>\n",
       "    <tr>\n",
       "      <th>5</th>\n",
       "      <td>West Indies</td>\n",
       "      <td>87</td>\n",
       "      <td>19</td>\n",
       "      <td>1,658</td>\n",
       "    </tr>\n",
       "    <tr>\n",
       "      <th>6</th>\n",
       "      <td>Pakistan</td>\n",
       "      <td>69</td>\n",
       "      <td>19</td>\n",
       "      <td>1,304</td>\n",
       "    </tr>\n",
       "    <tr>\n",
       "      <th>7</th>\n",
       "      <td>Ireland</td>\n",
       "      <td>48</td>\n",
       "      <td>5</td>\n",
       "      <td>240</td>\n",
       "    </tr>\n",
       "    <tr>\n",
       "      <th>8</th>\n",
       "      <td>Sri Lanka</td>\n",
       "      <td>47</td>\n",
       "      <td>5</td>\n",
       "      <td>233</td>\n",
       "    </tr>\n",
       "    <tr>\n",
       "      <th>9</th>\n",
       "      <td>Zimbabwe</td>\n",
       "      <td>0</td>\n",
       "      <td>8</td>\n",
       "      <td>0</td>\n",
       "    </tr>\n",
       "  </tbody>\n",
       "</table>\n",
       "</div>"
      ],
      "text/plain": [
       "           Team matches points rating\n",
       "0  South Africa     121     19  2,307\n",
       "1       England     119     18  2,148\n",
       "2         India     112     17  1,899\n",
       "3    Bangladesh      95      5    475\n",
       "4   New Zealand      88     19  1,668\n",
       "5   West Indies      87     19  1,658\n",
       "6      Pakistan      69     19  1,304\n",
       "7       Ireland      48      5    240\n",
       "8     Sri Lanka      47      5    233\n",
       "9      Zimbabwe       0      8      0"
      ]
     },
     "execution_count": 8,
     "metadata": {},
     "output_type": "execute_result"
    }
   ],
   "source": [
    "dd"
   ]
  },
  {
   "cell_type": "markdown",
   "id": "79fc48ad",
   "metadata": {},
   "source": [
    "b) Top 10 women’s ODI Batting players along with the records of their team and rating"
   ]
  },
  {
   "cell_type": "code",
   "execution_count": 13,
   "id": "1e7d2389",
   "metadata": {},
   "outputs": [],
   "source": [
    "url2='https://www.icc-cricket.com/rankings/womens/player-rankings/odi'\n",
    "soup2=requests.get(url2)\n",
    "game=BeautifulSoup(soup2.content)\n",
    "batsman=game.find_all('tr',{'class':'table-body'})"
   ]
  },
  {
   "cell_type": "code",
   "execution_count": 14,
   "id": "4f0758a0",
   "metadata": {},
   "outputs": [],
   "source": [
    "cricketer=[]\n",
    "for i in batsman:\n",
    "    cricketer.append(i.a.text)\n",
    "team=[]\n",
    "for j in batsman:\n",
    "    team.append(j.find('span',{'class':'table-body__logo-text'}).text)\n",
    "rate=[]\n",
    "for k in batsman:\n",
    "    rate.append(k.find('td',{'class':'table-body__cell u-text-right rating'}).text)"
   ]
  },
  {
   "cell_type": "code",
   "execution_count": 15,
   "id": "aec228fb",
   "metadata": {},
   "outputs": [],
   "source": [
    "dataset=list(zip(cricketer,team,rate))[:10]\n",
    "ddd=pd.DataFrame(dataset,columns=['cricketer','team','rate'])"
   ]
  },
  {
   "cell_type": "code",
   "execution_count": 16,
   "id": "1d9df66b",
   "metadata": {},
   "outputs": [
    {
     "data": {
      "text/html": [
       "<div>\n",
       "<style scoped>\n",
       "    .dataframe tbody tr th:only-of-type {\n",
       "        vertical-align: middle;\n",
       "    }\n",
       "\n",
       "    .dataframe tbody tr th {\n",
       "        vertical-align: top;\n",
       "    }\n",
       "\n",
       "    .dataframe thead th {\n",
       "        text-align: right;\n",
       "    }\n",
       "</style>\n",
       "<table border=\"1\" class=\"dataframe\">\n",
       "  <thead>\n",
       "    <tr style=\"text-align: right;\">\n",
       "      <th></th>\n",
       "      <th>cricketer</th>\n",
       "      <th>team</th>\n",
       "      <th>rate</th>\n",
       "    </tr>\n",
       "  </thead>\n",
       "  <tbody>\n",
       "    <tr>\n",
       "      <th>0</th>\n",
       "      <td>Alyssa Healy</td>\n",
       "      <td>AUS</td>\n",
       "      <td>750</td>\n",
       "    </tr>\n",
       "    <tr>\n",
       "      <th>1</th>\n",
       "      <td>Mithali Raj</td>\n",
       "      <td>IND</td>\n",
       "      <td>738</td>\n",
       "    </tr>\n",
       "    <tr>\n",
       "      <th>2</th>\n",
       "      <td>Tammy Beaumont</td>\n",
       "      <td>ENG</td>\n",
       "      <td>728</td>\n",
       "    </tr>\n",
       "    <tr>\n",
       "      <th>3</th>\n",
       "      <td>Amy Satterthwaite</td>\n",
       "      <td>NZ</td>\n",
       "      <td>717</td>\n",
       "    </tr>\n",
       "    <tr>\n",
       "      <th>4</th>\n",
       "      <td>Smriti Mandhana</td>\n",
       "      <td>IND</td>\n",
       "      <td>710</td>\n",
       "    </tr>\n",
       "    <tr>\n",
       "      <th>5</th>\n",
       "      <td>Meg Lanning</td>\n",
       "      <td>AUS</td>\n",
       "      <td>699</td>\n",
       "    </tr>\n",
       "    <tr>\n",
       "      <th>6</th>\n",
       "      <td>Beth Mooney</td>\n",
       "      <td>AUS</td>\n",
       "      <td>690</td>\n",
       "    </tr>\n",
       "    <tr>\n",
       "      <th>7</th>\n",
       "      <td>Stafanie Taylor</td>\n",
       "      <td>WI</td>\n",
       "      <td>676</td>\n",
       "    </tr>\n",
       "    <tr>\n",
       "      <th>8</th>\n",
       "      <td>Heather Knight</td>\n",
       "      <td>ENG</td>\n",
       "      <td>674</td>\n",
       "    </tr>\n",
       "    <tr>\n",
       "      <th>9</th>\n",
       "      <td>Jhulan Goswami</td>\n",
       "      <td>IND</td>\n",
       "      <td>727</td>\n",
       "    </tr>\n",
       "  </tbody>\n",
       "</table>\n",
       "</div>"
      ],
      "text/plain": [
       "           cricketer team rate\n",
       "0       Alyssa Healy  AUS  750\n",
       "1        Mithali Raj  IND  738\n",
       "2     Tammy Beaumont  ENG  728\n",
       "3  Amy Satterthwaite   NZ  717\n",
       "4    Smriti Mandhana  IND  710\n",
       "5        Meg Lanning  AUS  699\n",
       "6        Beth Mooney  AUS  690\n",
       "7    Stafanie Taylor   WI  676\n",
       "8     Heather Knight  ENG  674\n",
       "9     Jhulan Goswami  IND  727"
      ]
     },
     "execution_count": 16,
     "metadata": {},
     "output_type": "execute_result"
    }
   ],
   "source": [
    "ddd"
   ]
  },
  {
   "cell_type": "code",
   "execution_count": null,
   "id": "8ffacd44",
   "metadata": {},
   "outputs": [],
   "source": []
  }
 ],
 "metadata": {
  "kernelspec": {
   "display_name": "Python 3",
   "language": "python",
   "name": "python3"
  },
  "language_info": {
   "codemirror_mode": {
    "name": "ipython",
    "version": 3
   },
   "file_extension": ".py",
   "mimetype": "text/x-python",
   "name": "python",
   "nbconvert_exporter": "python",
   "pygments_lexer": "ipython3",
   "version": "3.8.8"
  }
 },
 "nbformat": 4,
 "nbformat_minor": 5
}
