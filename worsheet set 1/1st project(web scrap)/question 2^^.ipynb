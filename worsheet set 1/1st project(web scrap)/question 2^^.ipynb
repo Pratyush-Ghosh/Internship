{
 "cells": [
  {
   "cell_type": "code",
   "execution_count": 70,
   "id": "bf5fa317",
   "metadata": {},
   "outputs": [],
   "source": [
    "from bs4 import BeautifulSoup\n",
    "from requests import get\n",
    "import pandas as pd"
   ]
  },
  {
   "cell_type": "code",
   "execution_count": 71,
   "id": "db050ac2",
   "metadata": {},
   "outputs": [],
   "source": [
    "url='https://www.imdb.com/list/ls091520106/'"
   ]
  },
  {
   "cell_type": "code",
   "execution_count": 72,
   "id": "8785d2aa",
   "metadata": {},
   "outputs": [
    {
     "data": {
      "text/plain": [
       "<Response [200]>"
      ]
     },
     "execution_count": 72,
     "metadata": {},
     "output_type": "execute_result"
    }
   ],
   "source": [
    "soup=requests.get(url) #check if the api allows us or not\n",
    "soup"
   ]
  },
  {
   "cell_type": "code",
   "execution_count": 73,
   "id": "a7508f50",
   "metadata": {},
   "outputs": [],
   "source": [
    "imdb=BeautifulSoup(soup.content,'html.parser') #bring the content out"
   ]
  },
  {
   "cell_type": "code",
   "execution_count": 74,
   "id": "715efb44",
   "metadata": {},
   "outputs": [],
   "source": [
    "movies = imdb.findAll('div',{'class':\"lister-item mode-detail\"})"
   ]
  },
  {
   "cell_type": "code",
   "execution_count": 75,
   "id": "f0e8dbd1",
   "metadata": {},
   "outputs": [],
   "source": [
    "first_movie = movies[0]"
   ]
  },
  {
   "cell_type": "code",
   "execution_count": 76,
   "id": "39231712",
   "metadata": {},
   "outputs": [
    {
     "data": {
      "text/plain": [
       "'The Shawshank Redemption'"
      ]
     },
     "execution_count": 76,
     "metadata": {},
     "output_type": "execute_result"
    }
   ],
   "source": [
    "first_movie.h3.a.text"
   ]
  },
  {
   "cell_type": "code",
   "execution_count": 77,
   "id": "b7ba5443",
   "metadata": {},
   "outputs": [],
   "source": [
    "movie_year= movies[0]"
   ]
  },
  {
   "cell_type": "code",
   "execution_count": 78,
   "id": "5d751abc",
   "metadata": {},
   "outputs": [
    {
     "data": {
      "text/plain": [
       "'1994'"
      ]
     },
     "execution_count": 78,
     "metadata": {},
     "output_type": "execute_result"
    }
   ],
   "source": [
    "movie_year.find('span',{'class':'lister-item-year text-muted unbold'}).text[1:5]"
   ]
  },
  {
   "cell_type": "code",
   "execution_count": 79,
   "id": "81ca04b4",
   "metadata": {},
   "outputs": [],
   "source": [
    "movie_rating=movies[0]"
   ]
  },
  {
   "cell_type": "code",
   "execution_count": 80,
   "id": "98192613",
   "metadata": {},
   "outputs": [
    {
     "data": {
      "text/plain": [
       "'9.3'"
      ]
     },
     "execution_count": 80,
     "metadata": {},
     "output_type": "execute_result"
    }
   ],
   "source": [
    "movie_rating.find('span',{\"class\":\"ipl-rating-star__rating\"}).text"
   ]
  },
  {
   "cell_type": "code",
   "execution_count": 81,
   "id": "46391dbd",
   "metadata": {},
   "outputs": [],
   "source": [
    "name=[]\n",
    "year=[]\n",
    "rating=[]"
   ]
  },
  {
   "cell_type": "code",
   "execution_count": 82,
   "id": "c170cdd1",
   "metadata": {},
   "outputs": [],
   "source": [
    "for i in movies:\n",
    "    name.append(i.h3.a.text)\n",
    "    year.append(i.find('span',{'class':'lister-item-year text-muted unbold'}).text[1:5])\n",
    "    rating.append(i.find('span',{\"class\":\"ipl-rating-star__rating\"}).text)"
   ]
  },
  {
   "cell_type": "code",
   "execution_count": 83,
   "id": "da637442",
   "metadata": {},
   "outputs": [],
   "source": [
    "data=list(zip(name,year,rating))"
   ]
  },
  {
   "cell_type": "code",
   "execution_count": 84,
   "id": "ed640bc0",
   "metadata": {},
   "outputs": [],
   "source": [
    "df=pd.DataFrame(data,columns=['name','year','rating'])"
   ]
  },
  {
   "cell_type": "code",
   "execution_count": 85,
   "id": "1a3080fc",
   "metadata": {},
   "outputs": [
    {
     "data": {
      "text/html": [
       "<div>\n",
       "<style scoped>\n",
       "    .dataframe tbody tr th:only-of-type {\n",
       "        vertical-align: middle;\n",
       "    }\n",
       "\n",
       "    .dataframe tbody tr th {\n",
       "        vertical-align: top;\n",
       "    }\n",
       "\n",
       "    .dataframe thead th {\n",
       "        text-align: right;\n",
       "    }\n",
       "</style>\n",
       "<table border=\"1\" class=\"dataframe\">\n",
       "  <thead>\n",
       "    <tr style=\"text-align: right;\">\n",
       "      <th></th>\n",
       "      <th>name</th>\n",
       "      <th>year</th>\n",
       "      <th>rating</th>\n",
       "    </tr>\n",
       "  </thead>\n",
       "  <tbody>\n",
       "    <tr>\n",
       "      <th>0</th>\n",
       "      <td>The Shawshank Redemption</td>\n",
       "      <td>1994</td>\n",
       "      <td>9.3</td>\n",
       "    </tr>\n",
       "    <tr>\n",
       "      <th>1</th>\n",
       "      <td>The Godfather</td>\n",
       "      <td>1972</td>\n",
       "      <td>9.2</td>\n",
       "    </tr>\n",
       "    <tr>\n",
       "      <th>2</th>\n",
       "      <td>The Godfather: Part II</td>\n",
       "      <td>1974</td>\n",
       "      <td>9</td>\n",
       "    </tr>\n",
       "    <tr>\n",
       "      <th>3</th>\n",
       "      <td>The Dark Knight</td>\n",
       "      <td>2008</td>\n",
       "      <td>9</td>\n",
       "    </tr>\n",
       "    <tr>\n",
       "      <th>4</th>\n",
       "      <td>12 Angry Men</td>\n",
       "      <td>1957</td>\n",
       "      <td>9</td>\n",
       "    </tr>\n",
       "    <tr>\n",
       "      <th>...</th>\n",
       "      <td>...</td>\n",
       "      <td>...</td>\n",
       "      <td>...</td>\n",
       "    </tr>\n",
       "    <tr>\n",
       "      <th>95</th>\n",
       "      <td>North by Northwest</td>\n",
       "      <td>1959</td>\n",
       "      <td>8.3</td>\n",
       "    </tr>\n",
       "    <tr>\n",
       "      <th>96</th>\n",
       "      <td>A Clockwork Orange</td>\n",
       "      <td>1971</td>\n",
       "      <td>8.3</td>\n",
       "    </tr>\n",
       "    <tr>\n",
       "      <th>97</th>\n",
       "      <td>Snatch</td>\n",
       "      <td>2000</td>\n",
       "      <td>8.2</td>\n",
       "    </tr>\n",
       "    <tr>\n",
       "      <th>98</th>\n",
       "      <td>Le fabuleux destin d'Amélie Poulain</td>\n",
       "      <td>2001</td>\n",
       "      <td>8.3</td>\n",
       "    </tr>\n",
       "    <tr>\n",
       "      <th>99</th>\n",
       "      <td>The Kid</td>\n",
       "      <td>1921</td>\n",
       "      <td>8.3</td>\n",
       "    </tr>\n",
       "  </tbody>\n",
       "</table>\n",
       "<p>100 rows × 3 columns</p>\n",
       "</div>"
      ],
      "text/plain": [
       "                                   name  year rating\n",
       "0              The Shawshank Redemption  1994    9.3\n",
       "1                         The Godfather  1972    9.2\n",
       "2                The Godfather: Part II  1974      9\n",
       "3                       The Dark Knight  2008      9\n",
       "4                          12 Angry Men  1957      9\n",
       "..                                  ...   ...    ...\n",
       "95                   North by Northwest  1959    8.3\n",
       "96                   A Clockwork Orange  1971    8.3\n",
       "97                               Snatch  2000    8.2\n",
       "98  Le fabuleux destin d'Amélie Poulain  2001    8.3\n",
       "99                              The Kid  1921    8.3\n",
       "\n",
       "[100 rows x 3 columns]"
      ]
     },
     "execution_count": 85,
     "metadata": {},
     "output_type": "execute_result"
    }
   ],
   "source": [
    "df"
   ]
  },
  {
   "cell_type": "code",
   "execution_count": null,
   "id": "a251b400",
   "metadata": {},
   "outputs": [],
   "source": []
  }
 ],
 "metadata": {
  "kernelspec": {
   "display_name": "Python 3",
   "language": "python",
   "name": "python3"
  },
  "language_info": {
   "codemirror_mode": {
    "name": "ipython",
    "version": 3
   },
   "file_extension": ".py",
   "mimetype": "text/x-python",
   "name": "python",
   "nbconvert_exporter": "python",
   "pygments_lexer": "ipython3",
   "version": "3.8.8"
  }
 },
 "nbformat": 4,
 "nbformat_minor": 5
}
