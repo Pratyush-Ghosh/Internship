{
 "cells": [
  {
   "cell_type": "code",
   "execution_count": 89,
   "id": "a68359fa",
   "metadata": {},
   "outputs": [],
   "source": [
    "from bs4 import BeautifulSoup\n",
    "import requests\n",
    "import pandas as pd"
   ]
  },
  {
   "cell_type": "code",
   "execution_count": 90,
   "id": "c34aba7e",
   "metadata": {},
   "outputs": [],
   "source": [
    "url=\"https://www.wikipedia.org/\""
   ]
  },
  {
   "cell_type": "code",
   "execution_count": 91,
   "id": "9c8683ae",
   "metadata": {},
   "outputs": [
    {
     "data": {
      "text/plain": [
       "<Response [200]>"
      ]
     },
     "execution_count": 91,
     "metadata": {},
     "output_type": "execute_result"
    }
   ],
   "source": [
    "soup=requests.get(url)\n",
    "soup"
   ]
  },
  {
   "cell_type": "code",
   "execution_count": 92,
   "id": "7df17efc",
   "metadata": {},
   "outputs": [],
   "source": [
    "site=BeautifulSoup(soup.content,'html.parser')"
   ]
  },
  {
   "cell_type": "code",
   "execution_count": 93,
   "id": "84b24e40",
   "metadata": {},
   "outputs": [],
   "source": [
    "wiki=site.find_all('div',{'class':\"central-featured\"})"
   ]
  },
  {
   "cell_type": "code",
   "execution_count": 122,
   "id": "d9edaf5f",
   "metadata": {},
   "outputs": [],
   "source": [
    "head1=wiki[0]\n",
    "head2=wiki[0]\n",
    "head3=wiki[0]\n",
    "head4=wiki[0]\n",
    "head5=wiki[0]\n",
    "head6=wiki[0]\n",
    "head7=wiki[0]\n",
    "head8=wiki[0]\n",
    "head9=wiki[0]\n",
    "head10=wiki[0]"
   ]
  },
  {
   "cell_type": "code",
   "execution_count": 142,
   "id": "b8b26dd4",
   "metadata": {},
   "outputs": [
    {
     "data": {
      "text/plain": [
       "'English'"
      ]
     },
     "execution_count": 142,
     "metadata": {},
     "output_type": "execute_result"
    }
   ],
   "source": [
    "head1.find('div',{'class':\"central-featured-lang lang1\"}).text[2:9]"
   ]
  },
  {
   "cell_type": "code",
   "execution_count": 143,
   "id": "7e948e42",
   "metadata": {},
   "outputs": [
    {
     "data": {
      "text/plain": [
       "'日本語'"
      ]
     },
     "execution_count": 143,
     "metadata": {},
     "output_type": "execute_result"
    }
   ],
   "source": [
    "head2.find('div',{'class':\"central-featured-lang lang2\"}).text[2:5]"
   ]
  },
  {
   "cell_type": "code",
   "execution_count": 144,
   "id": "8bc6118f",
   "metadata": {},
   "outputs": [
    {
     "data": {
      "text/plain": [
       "'Русский'"
      ]
     },
     "execution_count": 144,
     "metadata": {},
     "output_type": "execute_result"
    }
   ],
   "source": [
    "head3.find('div',{'class':\"central-featured-lang lang3\"}).text[2:9]"
   ]
  },
  {
   "cell_type": "code",
   "execution_count": 145,
   "id": "cff1e4e7",
   "metadata": {},
   "outputs": [
    {
     "data": {
      "text/plain": [
       "'Deutsch'"
      ]
     },
     "execution_count": 145,
     "metadata": {},
     "output_type": "execute_result"
    }
   ],
   "source": [
    "head4.find('div',{'class':\"central-featured-lang lang4\"}).text[2:9]"
   ]
  },
  {
   "cell_type": "code",
   "execution_count": 146,
   "id": "9e4a2220",
   "metadata": {},
   "outputs": [
    {
     "data": {
      "text/plain": [
       "'Español'"
      ]
     },
     "execution_count": 146,
     "metadata": {},
     "output_type": "execute_result"
    }
   ],
   "source": [
    "head5.find('div',{'class':\"central-featured-lang lang5\"}).text[2:9]"
   ]
  },
  {
   "cell_type": "code",
   "execution_count": 147,
   "id": "77f9d486",
   "metadata": {},
   "outputs": [
    {
     "data": {
      "text/plain": [
       "'Français'"
      ]
     },
     "execution_count": 147,
     "metadata": {},
     "output_type": "execute_result"
    }
   ],
   "source": [
    "head6.find('div',{'class':\"central-featured-lang lang6\"}).text[2:10]"
   ]
  },
  {
   "cell_type": "code",
   "execution_count": 148,
   "id": "9b655f66",
   "metadata": {},
   "outputs": [
    {
     "data": {
      "text/plain": [
       "'中文'"
      ]
     },
     "execution_count": 148,
     "metadata": {},
     "output_type": "execute_result"
    }
   ],
   "source": [
    "head7.find('div',{'class':\"central-featured-lang lang7\"}).text[2:4]"
   ]
  },
  {
   "cell_type": "code",
   "execution_count": 149,
   "id": "bce942e3",
   "metadata": {},
   "outputs": [
    {
     "data": {
      "text/plain": [
       "'Italian'"
      ]
     },
     "execution_count": 149,
     "metadata": {},
     "output_type": "execute_result"
    }
   ],
   "source": [
    "head8.find('div',{'class':\"central-featured-lang lang8\"}).text[2:9]"
   ]
  },
  {
   "cell_type": "code",
   "execution_count": 150,
   "id": "3767d4d1",
   "metadata": {},
   "outputs": [
    {
     "data": {
      "text/plain": [
       "'Português'"
      ]
     },
     "execution_count": 150,
     "metadata": {},
     "output_type": "execute_result"
    }
   ],
   "source": [
    "head9.find('div',{'class':\"central-featured-lang lang9\"}).text[2:11]"
   ]
  },
  {
   "cell_type": "code",
   "execution_count": 151,
   "id": "f43882f5",
   "metadata": {},
   "outputs": [
    {
     "data": {
      "text/plain": [
       "'Polski'"
      ]
     },
     "execution_count": 151,
     "metadata": {},
     "output_type": "execute_result"
    }
   ],
   "source": [
    "head10.find('div',{'class':\"central-featured-lang lang10\"}).text[2:8]"
   ]
  },
  {
   "cell_type": "code",
   "execution_count": null,
   "id": "f70492b0",
   "metadata": {},
   "outputs": [],
   "source": []
  }
 ],
 "metadata": {
  "kernelspec": {
   "display_name": "Python 3",
   "language": "python",
   "name": "python3"
  },
  "language_info": {
   "codemirror_mode": {
    "name": "ipython",
    "version": 3
   },
   "file_extension": ".py",
   "mimetype": "text/x-python",
   "name": "python",
   "nbconvert_exporter": "python",
   "pygments_lexer": "ipython3",
   "version": "3.8.8"
  }
 },
 "nbformat": 4,
 "nbformat_minor": 5
}
