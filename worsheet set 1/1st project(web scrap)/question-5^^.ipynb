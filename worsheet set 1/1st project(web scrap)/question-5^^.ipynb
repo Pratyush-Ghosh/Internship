{
 "cells": [
  {
   "cell_type": "markdown",
   "id": "c6b2442b",
   "metadata": {},
   "source": [
    "a) Top 10 ODI teams in men’s cricket along with the records for matches, points and rating."
   ]
  },
  {
   "cell_type": "code",
   "execution_count": 77,
   "id": "b63126c8",
   "metadata": {},
   "outputs": [],
   "source": [
    "from bs4 import BeautifulSoup\n",
    "import requests\n",
    "import pandas as pd"
   ]
  },
  {
   "cell_type": "code",
   "execution_count": 78,
   "id": "d73a09fc",
   "metadata": {},
   "outputs": [],
   "source": [
    "url1=\"https://www.icc-cricket.com/rankings/mens/team-rankings/odi\""
   ]
  },
  {
   "cell_type": "code",
   "execution_count": 79,
   "id": "590cc052",
   "metadata": {},
   "outputs": [],
   "source": [
    "soup1=requests.get(url1)"
   ]
  },
  {
   "cell_type": "code",
   "execution_count": 80,
   "id": "2a334dd8",
   "metadata": {},
   "outputs": [],
   "source": [
    "odi=BeautifulSoup(soup1.content)"
   ]
  },
  {
   "cell_type": "code",
   "execution_count": 81,
   "id": "9b94976b",
   "metadata": {},
   "outputs": [],
   "source": [
    "game=odi.find_all('tr',{'class':'table-body'})"
   ]
  },
  {
   "cell_type": "code",
   "execution_count": 82,
   "id": "2e94c078",
   "metadata": {},
   "outputs": [],
   "source": [
    "country=[]\n",
    "rate=[]"
   ]
  },
  {
   "cell_type": "code",
   "execution_count": 83,
   "id": "00e74f03",
   "metadata": {},
   "outputs": [],
   "source": [
    "for i in game:\n",
    "    country.append(i.find('span',{\"class\":\"u-hide-phablet\"}).text)\n",
    "for i in game:\n",
    "    rate.append(i.find('td',{'class':\"table-body__cell u-text-right rating\"}).text)"
   ]
  },
  {
   "cell_type": "code",
   "execution_count": 84,
   "id": "e151185b",
   "metadata": {},
   "outputs": [],
   "source": [
    "#matches\n",
    "#pts"
   ]
  },
  {
   "cell_type": "code",
   "execution_count": 85,
   "id": "b36c8436",
   "metadata": {},
   "outputs": [],
   "source": [
    "total=[]\n",
    "for i in odi.find_all('td',{\"class\":\"table-body__cell u-center-text\"}):\n",
    "    total.append(i.text)\n",
    "matches = []\n",
    "for i in range(0,len(total),2):\n",
    "    matches.append(total[i])\n",
    "pts = []\n",
    "for i in range(1,len(total),2):\n",
    "    pts.append(total[i])"
   ]
  },
  {
   "cell_type": "code",
   "execution_count": 90,
   "id": "194e0f6f",
   "metadata": {},
   "outputs": [],
   "source": [
    "dataset=list(zip(country,rate,matches,pts))[:10]"
   ]
  },
  {
   "cell_type": "code",
   "execution_count": 91,
   "id": "79acc27c",
   "metadata": {},
   "outputs": [],
   "source": [
    "dd=pd.DataFrame(dataset,columns=['Team','matches','points','rating'])"
   ]
  },
  {
   "cell_type": "code",
   "execution_count": 92,
   "id": "b2367d53",
   "metadata": {},
   "outputs": [
    {
     "data": {
      "text/html": [
       "<div>\n",
       "<style scoped>\n",
       "    .dataframe tbody tr th:only-of-type {\n",
       "        vertical-align: middle;\n",
       "    }\n",
       "\n",
       "    .dataframe tbody tr th {\n",
       "        vertical-align: top;\n",
       "    }\n",
       "\n",
       "    .dataframe thead th {\n",
       "        text-align: right;\n",
       "    }\n",
       "</style>\n",
       "<table border=\"1\" class=\"dataframe\">\n",
       "  <thead>\n",
       "    <tr style=\"text-align: right;\">\n",
       "      <th></th>\n",
       "      <th>Team</th>\n",
       "      <th>matches</th>\n",
       "      <th>points</th>\n",
       "      <th>rating</th>\n",
       "    </tr>\n",
       "  </thead>\n",
       "  <tbody>\n",
       "    <tr>\n",
       "      <th>0</th>\n",
       "      <td>England</td>\n",
       "      <td>119</td>\n",
       "      <td>32</td>\n",
       "      <td>3,793</td>\n",
       "    </tr>\n",
       "    <tr>\n",
       "      <th>1</th>\n",
       "      <td>Australia</td>\n",
       "      <td>116</td>\n",
       "      <td>28</td>\n",
       "      <td>3,244</td>\n",
       "    </tr>\n",
       "    <tr>\n",
       "      <th>2</th>\n",
       "      <td>India</td>\n",
       "      <td>113</td>\n",
       "      <td>32</td>\n",
       "      <td>3,624</td>\n",
       "    </tr>\n",
       "    <tr>\n",
       "      <th>3</th>\n",
       "      <td>South Africa</td>\n",
       "      <td>98</td>\n",
       "      <td>25</td>\n",
       "      <td>2,459</td>\n",
       "    </tr>\n",
       "    <tr>\n",
       "      <th>4</th>\n",
       "      <td>Pakistan</td>\n",
       "      <td>93</td>\n",
       "      <td>27</td>\n",
       "      <td>2,524</td>\n",
       "    </tr>\n",
       "    <tr>\n",
       "      <th>5</th>\n",
       "      <td>Bangladesh</td>\n",
       "      <td>91</td>\n",
       "      <td>30</td>\n",
       "      <td>2,740</td>\n",
       "    </tr>\n",
       "    <tr>\n",
       "      <th>6</th>\n",
       "      <td>West Indies</td>\n",
       "      <td>84</td>\n",
       "      <td>30</td>\n",
       "      <td>2,523</td>\n",
       "    </tr>\n",
       "    <tr>\n",
       "      <th>7</th>\n",
       "      <td>Sri Lanka</td>\n",
       "      <td>83</td>\n",
       "      <td>32</td>\n",
       "      <td>2,657</td>\n",
       "    </tr>\n",
       "    <tr>\n",
       "      <th>8</th>\n",
       "      <td>Afghanistan</td>\n",
       "      <td>62</td>\n",
       "      <td>17</td>\n",
       "      <td>1,054</td>\n",
       "    </tr>\n",
       "    <tr>\n",
       "      <th>9</th>\n",
       "      <td>Netherlands</td>\n",
       "      <td>48</td>\n",
       "      <td>7</td>\n",
       "      <td>336</td>\n",
       "    </tr>\n",
       "  </tbody>\n",
       "</table>\n",
       "</div>"
      ],
      "text/plain": [
       "           Team matches points rating\n",
       "0       England     119     32  3,793\n",
       "1     Australia     116     28  3,244\n",
       "2         India     113     32  3,624\n",
       "3  South Africa      98     25  2,459\n",
       "4      Pakistan      93     27  2,524\n",
       "5    Bangladesh      91     30  2,740\n",
       "6   West Indies      84     30  2,523\n",
       "7     Sri Lanka      83     32  2,657\n",
       "8   Afghanistan      62     17  1,054\n",
       "9   Netherlands      48      7    336"
      ]
     },
     "execution_count": 92,
     "metadata": {},
     "output_type": "execute_result"
    }
   ],
   "source": [
    "dd"
   ]
  },
  {
   "cell_type": "markdown",
   "id": "7aa50fe2",
   "metadata": {},
   "source": [
    " b) Top 10 ODI Batsmen along with the records of their team and rating."
   ]
  },
  {
   "cell_type": "code",
   "execution_count": 94,
   "id": "46dac995",
   "metadata": {},
   "outputs": [],
   "source": [
    "url2='https://www.icc-cricket.com/rankings/mens/player-rankings/odi'"
   ]
  },
  {
   "cell_type": "code",
   "execution_count": 95,
   "id": "e87f648f",
   "metadata": {},
   "outputs": [],
   "source": [
    "soup2=requests.get(url2)"
   ]
  },
  {
   "cell_type": "code",
   "execution_count": 96,
   "id": "d0570a04",
   "metadata": {},
   "outputs": [],
   "source": [
    "game=BeautifulSoup(soup2.content)"
   ]
  },
  {
   "cell_type": "code",
   "execution_count": 97,
   "id": "ede4b30e",
   "metadata": {},
   "outputs": [],
   "source": [
    "batsman=game.find_all('tr',{'class':'table-body'})"
   ]
  },
  {
   "cell_type": "code",
   "execution_count": 98,
   "id": "58254722",
   "metadata": {},
   "outputs": [],
   "source": [
    "cricketer=[]\n",
    "for i in batsman:\n",
    "    cricketer.append(i.a.text)\n",
    "team=[]\n",
    "for j in batsman:\n",
    "    team.append(j.find('span',{'class':'table-body__logo-text'}).text)\n",
    "rate=[]\n",
    "for k in batsman:\n",
    "    rate.append(k.find('td',{'class':'table-body__cell u-text-right rating'}).text)"
   ]
  },
  {
   "cell_type": "code",
   "execution_count": 102,
   "id": "5f6fbfac",
   "metadata": {},
   "outputs": [],
   "source": [
    "dataset=list(zip(cricketer,team,rate))[:10]"
   ]
  },
  {
   "cell_type": "code",
   "execution_count": 103,
   "id": "a9649575",
   "metadata": {},
   "outputs": [],
   "source": [
    "ddd=pd.DataFrame(dataset,columns=['cricketer','team','rate'])"
   ]
  },
  {
   "cell_type": "code",
   "execution_count": 104,
   "id": "7081d93c",
   "metadata": {},
   "outputs": [
    {
     "data": {
      "text/html": [
       "<div>\n",
       "<style scoped>\n",
       "    .dataframe tbody tr th:only-of-type {\n",
       "        vertical-align: middle;\n",
       "    }\n",
       "\n",
       "    .dataframe tbody tr th {\n",
       "        vertical-align: top;\n",
       "    }\n",
       "\n",
       "    .dataframe thead th {\n",
       "        text-align: right;\n",
       "    }\n",
       "</style>\n",
       "<table border=\"1\" class=\"dataframe\">\n",
       "  <thead>\n",
       "    <tr style=\"text-align: right;\">\n",
       "      <th></th>\n",
       "      <th>cricketer</th>\n",
       "      <th>team</th>\n",
       "      <th>rate</th>\n",
       "    </tr>\n",
       "  </thead>\n",
       "  <tbody>\n",
       "    <tr>\n",
       "      <th>0</th>\n",
       "      <td>Virat Kohli</td>\n",
       "      <td>IND</td>\n",
       "      <td>844</td>\n",
       "    </tr>\n",
       "    <tr>\n",
       "      <th>1</th>\n",
       "      <td>Rohit Sharma</td>\n",
       "      <td>IND</td>\n",
       "      <td>813</td>\n",
       "    </tr>\n",
       "    <tr>\n",
       "      <th>2</th>\n",
       "      <td>Ross Taylor</td>\n",
       "      <td>NZ</td>\n",
       "      <td>801</td>\n",
       "    </tr>\n",
       "    <tr>\n",
       "      <th>3</th>\n",
       "      <td>Aaron Finch</td>\n",
       "      <td>AUS</td>\n",
       "      <td>779</td>\n",
       "    </tr>\n",
       "    <tr>\n",
       "      <th>4</th>\n",
       "      <td>Jonny Bairstow</td>\n",
       "      <td>ENG</td>\n",
       "      <td>775</td>\n",
       "    </tr>\n",
       "    <tr>\n",
       "      <th>5</th>\n",
       "      <td>David Warner</td>\n",
       "      <td>AUS</td>\n",
       "      <td>762</td>\n",
       "    </tr>\n",
       "    <tr>\n",
       "      <th>6</th>\n",
       "      <td>Shai Hope</td>\n",
       "      <td>WI</td>\n",
       "      <td>758</td>\n",
       "    </tr>\n",
       "    <tr>\n",
       "      <th>7</th>\n",
       "      <td>Kane Williamson</td>\n",
       "      <td>NZ</td>\n",
       "      <td>754</td>\n",
       "    </tr>\n",
       "    <tr>\n",
       "      <th>8</th>\n",
       "      <td>Quinton de Kock</td>\n",
       "      <td>SA</td>\n",
       "      <td>743</td>\n",
       "    </tr>\n",
       "    <tr>\n",
       "      <th>9</th>\n",
       "      <td>Josh Hazlewood</td>\n",
       "      <td>AUS</td>\n",
       "      <td>709</td>\n",
       "    </tr>\n",
       "  </tbody>\n",
       "</table>\n",
       "</div>"
      ],
      "text/plain": [
       "         cricketer team rate\n",
       "0      Virat Kohli  IND  844\n",
       "1     Rohit Sharma  IND  813\n",
       "2      Ross Taylor   NZ  801\n",
       "3      Aaron Finch  AUS  779\n",
       "4   Jonny Bairstow  ENG  775\n",
       "5     David Warner  AUS  762\n",
       "6        Shai Hope   WI  758\n",
       "7  Kane Williamson   NZ  754\n",
       "8  Quinton de Kock   SA  743\n",
       "9   Josh Hazlewood  AUS  709"
      ]
     },
     "execution_count": 104,
     "metadata": {},
     "output_type": "execute_result"
    }
   ],
   "source": [
    "ddd"
   ]
  }
 ],
 "metadata": {
  "kernelspec": {
   "display_name": "Python 3",
   "language": "python",
   "name": "python3"
  },
  "language_info": {
   "codemirror_mode": {
    "name": "ipython",
    "version": 3
   },
   "file_extension": ".py",
   "mimetype": "text/x-python",
   "name": "python",
   "nbconvert_exporter": "python",
   "pygments_lexer": "ipython3",
   "version": "3.8.8"
  }
 },
 "nbformat": 4,
 "nbformat_minor": 5
}
