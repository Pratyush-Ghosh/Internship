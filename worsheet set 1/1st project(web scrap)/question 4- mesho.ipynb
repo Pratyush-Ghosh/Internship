{
 "cells": [
  {
   "cell_type": "code",
   "execution_count": 1,
   "id": "fc36c79e",
   "metadata": {},
   "outputs": [],
   "source": [
    "from bs4 import BeautifulSoup\n",
    "import requests"
   ]
  },
  {
   "cell_type": "code",
   "execution_count": 6,
   "id": "8bc383c0",
   "metadata": {},
   "outputs": [],
   "source": [
    "url=\"https://meesho.com/bags\u0002ladies/pl/p7vbp\""
   ]
  },
  {
   "cell_type": "code",
   "execution_count": 8,
   "id": "42d6f2ba",
   "metadata": {},
   "outputs": [],
   "source": [
    "soup=requests.get(url)"
   ]
  },
  {
   "cell_type": "code",
   "execution_count": 10,
   "id": "a27a5037",
   "metadata": {},
   "outputs": [],
   "source": [
    "mesho=BeautifulSoup(soup.content,'html.parser')"
   ]
  },
  {
   "cell_type": "code",
   "execution_count": 11,
   "id": "767db705",
   "metadata": {},
   "outputs": [],
   "source": [
    "items=mesho.find_all('div',{\"class\":\"sc-dkPtRN ProductList__GridCol-sc-8lnc8o-0 FjWWx jMkQHN\"})"
   ]
  },
  {
   "cell_type": "code",
   "execution_count": 13,
   "id": "b996bee5",
   "metadata": {},
   "outputs": [],
   "source": [
    "product_name=items[0]\n",
    "price=items[0]\n",
    "discount=items[0]"
   ]
  },
  {
   "cell_type": "code",
   "execution_count": 28,
   "id": "7a605604",
   "metadata": {},
   "outputs": [
    {
     "data": {
      "text/plain": [
       "'Ligabba Orange Girls Handbag'"
      ]
     },
     "execution_count": 28,
     "metadata": {},
     "output_type": "execute_result"
    }
   ],
   "source": [
    "product_name.p.text"
   ]
  },
  {
   "cell_type": "code",
   "execution_count": 29,
   "id": "2a1dd6a5",
   "metadata": {},
   "outputs": [
    {
     "data": {
      "text/plain": [
       "'₹235'"
      ]
     },
     "execution_count": 29,
     "metadata": {},
     "output_type": "execute_result"
    }
   ],
   "source": [
    "price.h5.text"
   ]
  },
  {
   "cell_type": "code",
   "execution_count": 35,
   "id": "1ec73d42",
   "metadata": {},
   "outputs": [
    {
     "data": {
      "text/plain": [
       "'30%'"
      ]
     },
     "execution_count": 35,
     "metadata": {},
     "output_type": "execute_result"
    }
   ],
   "source": [
    "discount.find('span',{'class':\"Text__StyledText-sc-oo0kvp-0 lnonyH\"}).text[0:-4]"
   ]
  },
  {
   "cell_type": "code",
   "execution_count": 37,
   "id": "973d0b02",
   "metadata": {},
   "outputs": [],
   "source": [
    "name=[]\n",
    "prc=[]\n",
    "dis=[]"
   ]
  },
  {
   "cell_type": "code",
   "execution_count": 39,
   "id": "09b8fd08",
   "metadata": {},
   "outputs": [],
   "source": [
    "for i in items:\n",
    "    name.append(i.p.text)\n",
    "    prc.append(i.h5.text)\n",
    "    dis.append(i.find('span',{'class':\"Text__StyledText-sc-oo0kvp-0 lnonyH\"}).text[0:-4])\n",
    "    "
   ]
  },
  {
   "cell_type": "code",
   "execution_count": 41,
   "id": "bcc1069c",
   "metadata": {},
   "outputs": [
    {
     "data": {
      "text/plain": [
       "['Ligabba Orange Girls Handbag',\n",
       " 'Ravishing Stylish Women Handbags',\n",
       " 'Voguish Stylish Women Handbags',\n",
       " 'Satnoor Dinosaur Print Poly Canvas Tote Bag with Zipper Closure',\n",
       " 'TET brown handheld bag for girls and women',\n",
       " 'GMC-BLACK Tote Handbag',\n",
       " 'Moon Mart Latest A One Handbag',\n",
       " 'Gorgeous Fashionable Kids Slingbags.',\n",
       " 'ARSH G Women Hand-held Bag',\n",
       " 'Lovely Women Handbag.',\n",
       " 'suraiya girls fashion handwork potli gray color ',\n",
       " 'Handbags',\n",
       " 'Hamdbags',\n",
       " 'handbag',\n",
       " 'bluepotlibag',\n",
       " 'TET black handheld handbag for girls and women',\n",
       " 'Ligabba Orange Girls Handbag',\n",
       " 'Ravishing Stylish Women Handbags',\n",
       " 'Voguish Stylish Women Handbags',\n",
       " 'Satnoor Dinosaur Print Poly Canvas Tote Bag with Zipper Closure',\n",
       " 'TET brown handheld bag for girls and women',\n",
       " 'GMC-BLACK Tote Handbag',\n",
       " 'Moon Mart Latest A One Handbag',\n",
       " 'Gorgeous Fashionable Kids Slingbags.',\n",
       " 'ARSH G Women Hand-held Bag',\n",
       " 'Lovely Women Handbag.',\n",
       " 'suraiya girls fashion handwork potli gray color ',\n",
       " 'Handbags',\n",
       " 'Hamdbags',\n",
       " 'handbag',\n",
       " 'bluepotlibag',\n",
       " 'TET black handheld handbag for girls and women']"
      ]
     },
     "execution_count": 41,
     "metadata": {},
     "output_type": "execute_result"
    }
   ],
   "source": [
    "name #product names"
   ]
  },
  {
   "cell_type": "code",
   "execution_count": 42,
   "id": "f369e36e",
   "metadata": {},
   "outputs": [
    {
     "data": {
      "text/plain": [
       "['₹235',\n",
       " '₹70',\n",
       " '₹411',\n",
       " '₹200',\n",
       " '₹361',\n",
       " '₹351',\n",
       " '₹305',\n",
       " '₹94',\n",
       " '₹635',\n",
       " '₹196',\n",
       " '₹285',\n",
       " '₹130',\n",
       " '₹386',\n",
       " '₹125',\n",
       " '₹70',\n",
       " '₹335']"
      ]
     },
     "execution_count": 42,
     "metadata": {},
     "output_type": "execute_result"
    }
   ],
   "source": [
    "prc # price of products"
   ]
  },
  {
   "cell_type": "code",
   "execution_count": 43,
   "id": "da4fab37",
   "metadata": {},
   "outputs": [
    {
     "data": {
      "text/plain": [
       "['30%',\n",
       " '29%',\n",
       " '20%',\n",
       " '30%',\n",
       " '22%',\n",
       " '22%',\n",
       " '25%',\n",
       " '30%',\n",
       " '14%',\n",
       " '30%',\n",
       " '26%',\n",
       " '30%',\n",
       " '21%',\n",
       " '30%',\n",
       " '29%',\n",
       " '23%']"
      ]
     },
     "execution_count": 43,
     "metadata": {},
     "output_type": "execute_result"
    }
   ],
   "source": [
    "dis # discount on products"
   ]
  },
  {
   "cell_type": "code",
   "execution_count": null,
   "id": "759f3a51",
   "metadata": {},
   "outputs": [],
   "source": []
  }
 ],
 "metadata": {
  "kernelspec": {
   "display_name": "Python 3",
   "language": "python",
   "name": "python3"
  },
  "language_info": {
   "codemirror_mode": {
    "name": "ipython",
    "version": 3
   },
   "file_extension": ".py",
   "mimetype": "text/x-python",
   "name": "python",
   "nbconvert_exporter": "python",
   "pygments_lexer": "ipython3",
   "version": "3.8.8"
  }
 },
 "nbformat": 4,
 "nbformat_minor": 5
}
