{
 "cells": [
  {
   "cell_type": "code",
   "execution_count": 55,
   "id": "0af4b921",
   "metadata": {},
   "outputs": [],
   "source": [
    "from bs4 import BeautifulSoup\n",
    "import requests\n",
    "import pandas as pd"
   ]
  },
  {
   "cell_type": "code",
   "execution_count": 5,
   "id": "f5a19e5f",
   "metadata": {},
   "outputs": [],
   "source": [
    "url='https://www.imdb.com/list/ls009997493/'"
   ]
  },
  {
   "cell_type": "code",
   "execution_count": 9,
   "id": "d5355b22",
   "metadata": {},
   "outputs": [
    {
     "data": {
      "text/plain": [
       "<Response [200]>"
      ]
     },
     "execution_count": 9,
     "metadata": {},
     "output_type": "execute_result"
    }
   ],
   "source": [
    "soup=requests.get(url)\n",
    "soup"
   ]
  },
  {
   "cell_type": "code",
   "execution_count": 10,
   "id": "1f52b83c",
   "metadata": {},
   "outputs": [],
   "source": [
    "imdb=BeautifulSoup(soup.content)"
   ]
  },
  {
   "cell_type": "code",
   "execution_count": 11,
   "id": "4f569a08",
   "metadata": {},
   "outputs": [],
   "source": [
    "movies=imdb.find_all('div',{'class':\"lister-item mode-detail\"})"
   ]
  },
  {
   "cell_type": "code",
   "execution_count": 32,
   "id": "c0c68ba3",
   "metadata": {},
   "outputs": [
    {
     "data": {
      "text/plain": [
       "'Rang De Basanti'"
      ]
     },
     "execution_count": 32,
     "metadata": {},
     "output_type": "execute_result"
    }
   ],
   "source": [
    "movie_name=movies[0]\n",
    "movie_name.h3.a.text\n"
   ]
  },
  {
   "cell_type": "code",
   "execution_count": 40,
   "id": "b413c0b4",
   "metadata": {},
   "outputs": [
    {
     "data": {
      "text/plain": [
       "'2006'"
      ]
     },
     "execution_count": 40,
     "metadata": {},
     "output_type": "execute_result"
    }
   ],
   "source": [
    "movie_year=movies[0]\n",
    "movie_year.find('span',{'class':\"lister-item-year text-muted unbold\"}).text[1:5]"
   ]
  },
  {
   "cell_type": "code",
   "execution_count": 43,
   "id": "6410368b",
   "metadata": {},
   "outputs": [
    {
     "data": {
      "text/plain": [
       "'8.1'"
      ]
     },
     "execution_count": 43,
     "metadata": {},
     "output_type": "execute_result"
    }
   ],
   "source": [
    "movie_rating=movies[0]\n",
    "movie_rating.find('span',{'class':\"ipl-rating-star__rating\"}).text"
   ]
  },
  {
   "cell_type": "code",
   "execution_count": 45,
   "id": "4668366b",
   "metadata": {},
   "outputs": [],
   "source": [
    "name=[]\n",
    "year=[]\n",
    "rating=[]"
   ]
  },
  {
   "cell_type": "code",
   "execution_count": 47,
   "id": "bff9ef71",
   "metadata": {},
   "outputs": [],
   "source": [
    "for i in movies:\n",
    "    name.append(i.h3.a.text)\n",
    "    year.append(i.find('span',{'class':\"lister-item-year text-muted unbold\"}).text[1:5])\n",
    "    rating.append(i.find('span',{'class':\"ipl-rating-star__rating\"}).text)\n",
    "    "
   ]
  },
  {
   "cell_type": "code",
   "execution_count": 51,
   "id": "cb89ecc5",
   "metadata": {},
   "outputs": [],
   "source": [
    "dataset=list(zip(name,year,rating))"
   ]
  },
  {
   "cell_type": "code",
   "execution_count": 56,
   "id": "8976ff68",
   "metadata": {},
   "outputs": [],
   "source": [
    "df=pd.DataFrame(dataset,columns=[\"Name\", \"Year\", \"Rating\"])"
   ]
  },
  {
   "cell_type": "code",
   "execution_count": 58,
   "id": "246796d2",
   "metadata": {},
   "outputs": [
    {
     "data": {
      "text/html": [
       "<div>\n",
       "<style scoped>\n",
       "    .dataframe tbody tr th:only-of-type {\n",
       "        vertical-align: middle;\n",
       "    }\n",
       "\n",
       "    .dataframe tbody tr th {\n",
       "        vertical-align: top;\n",
       "    }\n",
       "\n",
       "    .dataframe thead th {\n",
       "        text-align: right;\n",
       "    }\n",
       "</style>\n",
       "<table border=\"1\" class=\"dataframe\">\n",
       "  <thead>\n",
       "    <tr style=\"text-align: right;\">\n",
       "      <th></th>\n",
       "      <th>Name</th>\n",
       "      <th>Year</th>\n",
       "      <th>Rating</th>\n",
       "    </tr>\n",
       "  </thead>\n",
       "  <tbody>\n",
       "    <tr>\n",
       "      <th>0</th>\n",
       "      <td>Rang De Basanti</td>\n",
       "      <td>2006</td>\n",
       "      <td>8.1</td>\n",
       "    </tr>\n",
       "    <tr>\n",
       "      <th>1</th>\n",
       "      <td>3 Idiots</td>\n",
       "      <td>2009</td>\n",
       "      <td>8.4</td>\n",
       "    </tr>\n",
       "    <tr>\n",
       "      <th>2</th>\n",
       "      <td>Taare Zameen Par</td>\n",
       "      <td>2007</td>\n",
       "      <td>8.4</td>\n",
       "    </tr>\n",
       "    <tr>\n",
       "      <th>3</th>\n",
       "      <td>Dil Chahta Hai</td>\n",
       "      <td>2001</td>\n",
       "      <td>8.1</td>\n",
       "    </tr>\n",
       "    <tr>\n",
       "      <th>4</th>\n",
       "      <td>Swades: We, the People</td>\n",
       "      <td>2004</td>\n",
       "      <td>8.2</td>\n",
       "    </tr>\n",
       "    <tr>\n",
       "      <th>...</th>\n",
       "      <td>...</td>\n",
       "      <td>...</td>\n",
       "      <td>...</td>\n",
       "    </tr>\n",
       "    <tr>\n",
       "      <th>95</th>\n",
       "      <td>Wake Up Sid</td>\n",
       "      <td>2009</td>\n",
       "      <td>7.6</td>\n",
       "    </tr>\n",
       "    <tr>\n",
       "      <th>96</th>\n",
       "      <td>Rangeela</td>\n",
       "      <td>1995</td>\n",
       "      <td>7.5</td>\n",
       "    </tr>\n",
       "    <tr>\n",
       "      <th>97</th>\n",
       "      <td>Shatranj Ke Khilari</td>\n",
       "      <td>1977</td>\n",
       "      <td>7.7</td>\n",
       "    </tr>\n",
       "    <tr>\n",
       "      <th>98</th>\n",
       "      <td>Pyaar Ka Punchnama</td>\n",
       "      <td>2011</td>\n",
       "      <td>7.6</td>\n",
       "    </tr>\n",
       "    <tr>\n",
       "      <th>99</th>\n",
       "      <td>Ek Hasina Thi</td>\n",
       "      <td>2004</td>\n",
       "      <td>7.5</td>\n",
       "    </tr>\n",
       "  </tbody>\n",
       "</table>\n",
       "<p>100 rows × 3 columns</p>\n",
       "</div>"
      ],
      "text/plain": [
       "                      Name  Year Rating\n",
       "0          Rang De Basanti  2006    8.1\n",
       "1                 3 Idiots  2009    8.4\n",
       "2         Taare Zameen Par  2007    8.4\n",
       "3           Dil Chahta Hai  2001    8.1\n",
       "4   Swades: We, the People  2004    8.2\n",
       "..                     ...   ...    ...\n",
       "95             Wake Up Sid  2009    7.6\n",
       "96                Rangeela  1995    7.5\n",
       "97     Shatranj Ke Khilari  1977    7.7\n",
       "98      Pyaar Ka Punchnama  2011    7.6\n",
       "99           Ek Hasina Thi  2004    7.5\n",
       "\n",
       "[100 rows x 3 columns]"
      ]
     },
     "execution_count": 58,
     "metadata": {},
     "output_type": "execute_result"
    }
   ],
   "source": [
    "df"
   ]
  }
 ],
 "metadata": {
  "kernelspec": {
   "display_name": "Python 3",
   "language": "python",
   "name": "python3"
  },
  "language_info": {
   "codemirror_mode": {
    "name": "ipython",
    "version": 3
   },
   "file_extension": ".py",
   "mimetype": "text/x-python",
   "name": "python",
   "nbconvert_exporter": "python",
   "pygments_lexer": "ipython3",
   "version": "3.8.8"
  }
 },
 "nbformat": 4,
 "nbformat_minor": 5
}
