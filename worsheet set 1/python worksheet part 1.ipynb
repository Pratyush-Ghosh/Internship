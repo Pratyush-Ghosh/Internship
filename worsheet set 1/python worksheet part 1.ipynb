{
 "cells": [
  {
   "cell_type": "markdown",
   "id": "1d22a972",
   "metadata": {},
   "source": [
    "# Python Worksheet - 1"
   ]
  },
  {
   "cell_type": "markdown",
   "id": "75216edc",
   "metadata": {},
   "source": [
    "1. Which of the following operators is used to calculate remainder in a division?\n",
    "\n",
    "C) %"
   ]
  },
  {
   "cell_type": "markdown",
   "id": "99126678",
   "metadata": {},
   "source": [
    "2. In python 2//3 is equal to?\n",
    "\n",
    "\n",
    "B) 0"
   ]
  },
  {
   "cell_type": "markdown",
   "id": "a494988e",
   "metadata": {},
   "source": [
    "3. In python, 6<<2 is equal to?\n",
    "\n",
    "C) 24"
   ]
  },
  {
   "cell_type": "markdown",
   "id": "22f4763a",
   "metadata": {},
   "source": [
    "4. In python, 6&2 will give which of the following as output?\n",
    "\n",
    "A) 2"
   ]
  },
  {
   "cell_type": "markdown",
   "id": "cb518791",
   "metadata": {},
   "source": [
    "5. In python, 6|2 will give which of the following as output?\n",
    "\n",
    "D) 6"
   ]
  },
  {
   "cell_type": "markdown",
   "id": "998289ef",
   "metadata": {},
   "source": [
    "6. What does the finally keyword denotes in python?\n",
    "\n",
    "C) the finally block will be executed no matter if the try block raises an error or not."
   ]
  },
  {
   "cell_type": "markdown",
   "id": "66928466",
   "metadata": {},
   "source": [
    "7. What does raise keyword is used for in python?\n",
    "\n",
    "\n",
    "A) It is used to raise an exception. "
   ]
  },
  {
   "cell_type": "markdown",
   "id": "b6c77b09",
   "metadata": {},
   "source": [
    "8. Which of the following is a common use case of yield keyword in python?\n",
    "\n",
    "C) in defining a generator"
   ]
  },
  {
   "cell_type": "markdown",
   "id": "2bf64df9",
   "metadata": {},
   "source": [
    "9. Which of the following are the valid variable names?\n",
    "\n",
    "A) _abc\n",
    "C) abc2"
   ]
  },
  {
   "cell_type": "markdown",
   "id": "7ab52230",
   "metadata": {},
   "source": [
    "10. Which of the following are the keywords in python?\n",
    "\n",
    "A) yield B) raise"
   ]
  },
  {
   "cell_type": "markdown",
   "id": "08f979f9",
   "metadata": {},
   "source": [
    "11. Write a python program to find the factorial of a number."
   ]
  },
  {
   "cell_type": "code",
   "execution_count": 16,
   "id": "bef7268e",
   "metadata": {},
   "outputs": [
    {
     "name": "stdout",
     "output_type": "stream",
     "text": [
      " your factorial number =>  24\n"
     ]
    }
   ],
   "source": [
    "def facto(a):\n",
    "    if a==1 or a==0:\n",
    "        return 1\n",
    "    else:\n",
    "        return a * facto(a-1)\n",
    "c=facto(4)\n",
    "print(' your factorial number => ', c)"
   ]
  },
  {
   "cell_type": "markdown",
   "id": "a4cb42fe",
   "metadata": {},
   "source": [
    "12. Write a python program to find whether a number is prime or composite."
   ]
  },
  {
   "cell_type": "code",
   "execution_count": 40,
   "id": "ee0eab6c",
   "metadata": {},
   "outputs": [
    {
     "data": {
      "text/plain": [
       "'Prime'"
      ]
     },
     "execution_count": 40,
     "metadata": {},
     "output_type": "execute_result"
    }
   ],
   "source": [
    "def poc(n):\n",
    "    if n==1 or n==0 or (n % 2 == 0 and n > 2):\n",
    "        return \"Composite\"\n",
    "    else:\n",
    "        for i in range(3, int(n**(1/2))+1, 2):\n",
    "            if n%i == 0:\n",
    "                return \"composite\"\n",
    "        return \"Prime\"\n",
    "poc(5)"
   ]
  },
  {
   "cell_type": "code",
   "execution_count": 4,
   "id": "785a4475",
   "metadata": {},
   "outputs": [
    {
     "name": "stdout",
     "output_type": "stream",
     "text": [
      "enter the number50\n"
     ]
    },
    {
     "ename": "TypeError",
     "evalue": "'>' not supported between instances of 'str' and 'int'",
     "output_type": "error",
     "traceback": [
      "\u001b[1;31m---------------------------------------------------------------------------\u001b[0m",
      "\u001b[1;31mTypeError\u001b[0m                                 Traceback (most recent call last)",
      "\u001b[1;32m<ipython-input-4-f9f5ace66d2b>\u001b[0m in \u001b[0;36m<module>\u001b[1;34m\u001b[0m\n\u001b[0;32m      1\u001b[0m \u001b[0mpoc\u001b[0m\u001b[1;33m=\u001b[0m\u001b[0minput\u001b[0m\u001b[1;33m(\u001b[0m\u001b[1;34m\"enter the number\"\u001b[0m\u001b[1;33m)\u001b[0m\u001b[1;33m\u001b[0m\u001b[1;33m\u001b[0m\u001b[0m\n\u001b[0;32m      2\u001b[0m \u001b[0mflg\u001b[0m \u001b[1;33m=\u001b[0m \u001b[1;32mFalse\u001b[0m\u001b[1;33m\u001b[0m\u001b[1;33m\u001b[0m\u001b[0m\n\u001b[1;32m----> 3\u001b[1;33m \u001b[1;32mif\u001b[0m \u001b[0mpoc\u001b[0m \u001b[1;33m>\u001b[0m \u001b[1;36m1\u001b[0m\u001b[1;33m:\u001b[0m\u001b[1;33m\u001b[0m\u001b[1;33m\u001b[0m\u001b[0m\n\u001b[0m\u001b[0;32m      4\u001b[0m     \u001b[1;32mfor\u001b[0m \u001b[0mi\u001b[0m \u001b[1;32min\u001b[0m \u001b[0mrange\u001b[0m\u001b[1;33m(\u001b[0m\u001b[1;36m2\u001b[0m\u001b[1;33m,\u001b[0m \u001b[0mpoc\u001b[0m\u001b[1;33m)\u001b[0m\u001b[1;33m:\u001b[0m\u001b[1;33m\u001b[0m\u001b[1;33m\u001b[0m\u001b[0m\n\u001b[0;32m      5\u001b[0m         \u001b[1;32mif\u001b[0m \u001b[1;33m(\u001b[0m\u001b[0mpoc\u001b[0m \u001b[1;33m%\u001b[0m \u001b[0mi\u001b[0m\u001b[1;33m)\u001b[0m \u001b[1;33m==\u001b[0m \u001b[1;36m0\u001b[0m\u001b[1;33m:\u001b[0m\u001b[1;33m\u001b[0m\u001b[1;33m\u001b[0m\u001b[0m\n",
      "\u001b[1;31mTypeError\u001b[0m: '>' not supported between instances of 'str' and 'int'"
     ]
    }
   ],
   "source": [
    "poc=input(\"enter the number\")\n",
    "flg = False\n",
    "if poc > 1:\n",
    "    for i in range(2, poc):\n",
    "        if (poc % i) == 0:\n",
    "            flg=True\n",
    "            break\n",
    "            \n",
    "if compare:\n",
    "    print(\"it's composite\")\n",
    "else:\n",
    "    print(\"it's prime\")\n"
   ]
  },
  {
   "cell_type": "markdown",
   "id": "e5c75c48",
   "metadata": {},
   "source": [
    "13. Write a python program to check whether a given string is palindrome or not"
   ]
  },
  {
   "cell_type": "code",
   "execution_count": 66,
   "id": "cf857a9e",
   "metadata": {},
   "outputs": [
    {
     "name": "stdout",
     "output_type": "stream",
     "text": [
      "it's a palindrome\n"
     ]
    }
   ],
   "source": [
    "def palin(s):\n",
    "    return s == s[::-1]\n",
    "s = \"racecar\"\n",
    "ans = palin(s)\n",
    " \n",
    "if ans:\n",
    "    print(\"it's a palindrome\")\n",
    "else:\n",
    "    print(\"it's not a palindrome\")\n",
    " "
   ]
  },
  {
   "cell_type": "markdown",
   "id": "8e7421fc",
   "metadata": {},
   "source": [
    "14. Write a Python program to get the third side of right-angled triangle from two given sides."
   ]
  },
  {
   "cell_type": "code",
   "execution_count": 1,
   "id": "f1efa542",
   "metadata": {},
   "outputs": [
    {
     "name": "stdout",
     "output_type": "stream",
     "text": [
      "Enter base: 42\n",
      "Enter height: 25\n",
      "Enter angle: 55\n",
      "Hypotenuse = 48.877397639399746\n"
     ]
    }
   ],
   "source": [
    "import math\n",
    "\n",
    "a = float(input(\"Enter base: \"))\n",
    "b = float(input(\"Enter height: \"))\n",
    "x = float(input(\"Enter angle: \"))\n",
    "\n",
    "c = math.sqrt(a ** 2 + b ** 2)\n",
    "\n",
    "print(\"Hypotenuse =\", c)"
   ]
  },
  {
   "cell_type": "markdown",
   "id": "d26357f4",
   "metadata": {},
   "source": [
    "15. Write a python program to print the frequency of each of the characters present in a given string"
   ]
  },
  {
   "cell_type": "code",
   "execution_count": 3,
   "id": "a5c4891f",
   "metadata": {},
   "outputs": [
    {
     "name": "stdout",
     "output_type": "stream",
     "text": [
      "{'m': 1, 'i': 4, 's': 3, 'p': 2}\n"
     ]
    }
   ],
   "source": [
    "def char_frequency(str1):\n",
    "    dict = {}\n",
    "    for n in str1:\n",
    "        keys = dict.keys()\n",
    "        if n in keys:\n",
    "            dict[n] += 1\n",
    "        else:\n",
    "            dict[n] = 1\n",
    "    return dict\n",
    "print(char_frequency('missisippi'))"
   ]
  },
  {
   "cell_type": "code",
   "execution_count": null,
   "id": "96c4a085",
   "metadata": {},
   "outputs": [],
   "source": []
  }
 ],
 "metadata": {
  "kernelspec": {
   "display_name": "Python 3",
   "language": "python",
   "name": "python3"
  },
  "language_info": {
   "codemirror_mode": {
    "name": "ipython",
    "version": 3
   },
   "file_extension": ".py",
   "mimetype": "text/x-python",
   "name": "python",
   "nbconvert_exporter": "python",
   "pygments_lexer": "ipython3",
   "version": "3.8.8"
  }
 },
 "nbformat": 4,
 "nbformat_minor": 5
}
