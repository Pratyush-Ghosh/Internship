{
 "cells": [
  {
   "cell_type": "code",
   "execution_count": 16,
   "id": "014521a0",
   "metadata": {},
   "outputs": [],
   "source": [
    "from bs4 import BeautifulSoup\n",
    "import requests\n",
    "import pandas as pd"
   ]
  },
  {
   "cell_type": "code",
   "execution_count": 17,
   "id": "551b3c8e",
   "metadata": {},
   "outputs": [],
   "source": [
    "url=\"https://www.nobroker.in/property/sale/mumbai/multiple?searchParam=W3sibGF0IjoxNy40NDc0NDc1LCJsb24iOjc4LjM1NjkyNzUsInBsYWNlSWQiOiJDaElKZzVwcF9KU1R5enNSaHBYNzU2M2VkX2ciLCJwbGFjZU5hbWUiOiJJbmRpcmEgTmFnYXIiLCJzaG93TWFwIjpmYWxzZX0seyJsYXQiOjE3LjUwMDA3MjgsImxvbiI6NzguNDA1MTk1OTk5OTk5OTksInBsYWNlSWQiOiJDaElKc1hGcW91bVJ5enNSYlpWeWRlajJHSkkiLCJwbGFjZU5hbWUiOiJKYXlhbmFnYXIgQ29sb255Iiwic2hvd01hcCI6ZmFsc2V9LHsibGF0IjoxMi45NzczMDA5LCJsb24iOjc3LjU1NTUwMzcsInBsYWNlSWQiOiJDaElKbng3X3JfQTlyanNSc3VLQ3ZJYzdUOVEiLCJwbGFjZU5hbWUiOiJSYWphamluYWdhciIsInNob3dNYXAiOmZhbHNlfV0=&radius=2.0&city=mumbai&locality=Indira%20Nagar&orderBy=availableFrom,asc\"\n",
    "#Indira Nagar, Jayanagar, Rajaji Nagar"
   ]
  },
  {
   "cell_type": "code",
   "execution_count": 18,
   "id": "58611c19",
   "metadata": {},
   "outputs": [],
   "source": [
    "soup = requests.get(url)\n",
    "localities=BeautifulSoup(soup.content,'html.parser')"
   ]
  },
  {
   "cell_type": "code",
   "execution_count": 19,
   "id": "2bed687a",
   "metadata": {},
   "outputs": [],
   "source": [
    "buy=localities.find_all('div',{'class':'nb__2_XSE'}) #house title, location, area, emi, price"
   ]
  },
  {
   "cell_type": "code",
   "execution_count": 20,
   "id": "2cee99da",
   "metadata": {},
   "outputs": [],
   "source": [
    "name=[]           \n",
    "location=[]\n",
    "area=[]"
   ]
  },
  {
   "cell_type": "code",
   "execution_count": 21,
   "id": "7024ca91",
   "metadata": {},
   "outputs": [],
   "source": [
    "for i in buy:\n",
    "    name.append(i.span.text)\n",
    "    location.append(i.find('div',{'class','nb__1EwQz'}).text)   \n",
    "    area.append(i.find('div',{'class','font-semi-bold heading-6'}).text)"
   ]
  },
  {
   "cell_type": "code",
   "execution_count": 22,
   "id": "5a98272a",
   "metadata": {},
   "outputs": [],
   "source": [
    "al=[]\n",
    "for j in localities.find_all('div',class_='font-semi-bold heading-6'):\n",
    "    al.append(j.text)\n",
    "al\n",
    "emi=[]\n",
    "for k in range(1,len(al),3):\n",
    "    emi.append(al[k])\n",
    "emi\n",
    "price=[]\n",
    "for l in range(2,len(al),3):\n",
    "    price.append(al[l])"
   ]
  },
  {
   "cell_type": "code",
   "execution_count": 23,
   "id": "27a13538",
   "metadata": {},
   "outputs": [],
   "source": [
    "dataset=list(zip(name,location,area,emi,price))"
   ]
  },
  {
   "cell_type": "code",
   "execution_count": 24,
   "id": "d533a236",
   "metadata": {},
   "outputs": [],
   "source": [
    "dd=pd.DataFrame(dataset,columns=['House Title','Location','Area','Emi','Price'])"
   ]
  },
  {
   "cell_type": "code",
   "execution_count": 31,
   "id": "f5445104",
   "metadata": {},
   "outputs": [
    {
     "data": {
      "text/html": [
       "<div>\n",
       "<style scoped>\n",
       "    .dataframe tbody tr th:only-of-type {\n",
       "        vertical-align: middle;\n",
       "    }\n",
       "\n",
       "    .dataframe tbody tr th {\n",
       "        vertical-align: top;\n",
       "    }\n",
       "\n",
       "    .dataframe thead th {\n",
       "        text-align: right;\n",
       "    }\n",
       "</style>\n",
       "<table border=\"1\" class=\"dataframe\">\n",
       "  <thead>\n",
       "    <tr style=\"text-align: right;\">\n",
       "      <th></th>\n",
       "      <th>House Title</th>\n",
       "      <th>Location</th>\n",
       "      <th>Area</th>\n",
       "      <th>Emi</th>\n",
       "      <th>Price</th>\n",
       "    </tr>\n",
       "  </thead>\n",
       "  <tbody>\n",
       "    <tr>\n",
       "      <th>1</th>\n",
       "      <td>2 BHK Flat  For Sale  In Sreemukhs Msl Towers ...</td>\n",
       "      <td>M S L Towers, Near Pochamma Temple, Indira Nagar,</td>\n",
       "      <td>1,000 sqft</td>\n",
       "      <td>₹32,096/Month</td>\n",
       "      <td>₹56 Lacs</td>\n",
       "    </tr>\n",
       "    <tr>\n",
       "      <th>2</th>\n",
       "      <td>2 BHK Flat  For Sale  In Msl Towers In Chanda ...</td>\n",
       "      <td>M S L Towers Near Pochamma Temple Indira Nagar</td>\n",
       "      <td>860 sqft</td>\n",
       "      <td>₹24,072/Month</td>\n",
       "      <td>₹42 Lacs</td>\n",
       "    </tr>\n",
       "    <tr>\n",
       "      <th>3</th>\n",
       "      <td>2 BHK Flat  For Sale  In Sharada Nilayam In Ku...</td>\n",
       "      <td>nizampet main road</td>\n",
       "      <td>1,250 sqft</td>\n",
       "      <td>₹22,925/Month</td>\n",
       "      <td>₹40 Lacs</td>\n",
       "    </tr>\n",
       "    <tr>\n",
       "      <th>4</th>\n",
       "      <td>3 BHK Flat  For Sale  In Sigma Central Apartme...</td>\n",
       "      <td>Tara Nagar</td>\n",
       "      <td>1,600 sqft</td>\n",
       "      <td>₹47,571/Month</td>\n",
       "      <td>₹83 Lacs</td>\n",
       "    </tr>\n",
       "    <tr>\n",
       "      <th>5</th>\n",
       "      <td>2 BHK Flat  For Sale  In Keerthi Bomerlo  In R...</td>\n",
       "      <td>rajiv nagar</td>\n",
       "      <td>1,186 sqft</td>\n",
       "      <td>₹40,120/Month</td>\n",
       "      <td>₹70 Lacs</td>\n",
       "    </tr>\n",
       "    <tr>\n",
       "      <th>6</th>\n",
       "      <td>2 BHK Flat  For Sale  In Apartment In Chandanagar</td>\n",
       "      <td>Behind Venkateswara Swamy temple</td>\n",
       "      <td>902 sqft</td>\n",
       "      <td>₹25,791/Month</td>\n",
       "      <td>₹45 Lacs</td>\n",
       "    </tr>\n",
       "    <tr>\n",
       "      <th>7</th>\n",
       "      <td>2 BHK Flat  For Sale  In Vrushank Towers In 35...</td>\n",
       "      <td>35, PJR Stadium</td>\n",
       "      <td>1,140 sqft</td>\n",
       "      <td>₹42,985/Month</td>\n",
       "      <td>₹75 Lacs</td>\n",
       "    </tr>\n",
       "    <tr>\n",
       "      <th>8</th>\n",
       "      <td>2 BHK Flat  For Sale  In Tirumalaraya Towers I...</td>\n",
       "      <td>jaya nagar</td>\n",
       "      <td>1,170 sqft</td>\n",
       "      <td>₹42,985/Month</td>\n",
       "      <td>₹75 Lacs</td>\n",
       "    </tr>\n",
       "  </tbody>\n",
       "</table>\n",
       "</div>"
      ],
      "text/plain": [
       "                                         House Title  \\\n",
       "1  2 BHK Flat  For Sale  In Sreemukhs Msl Towers ...   \n",
       "2  2 BHK Flat  For Sale  In Msl Towers In Chanda ...   \n",
       "3  2 BHK Flat  For Sale  In Sharada Nilayam In Ku...   \n",
       "4  3 BHK Flat  For Sale  In Sigma Central Apartme...   \n",
       "5  2 BHK Flat  For Sale  In Keerthi Bomerlo  In R...   \n",
       "6  2 BHK Flat  For Sale  In Apartment In Chandanagar   \n",
       "7  2 BHK Flat  For Sale  In Vrushank Towers In 35...   \n",
       "8  2 BHK Flat  For Sale  In Tirumalaraya Towers I...   \n",
       "\n",
       "                                            Location        Area  \\\n",
       "1  M S L Towers, Near Pochamma Temple, Indira Nagar,  1,000 sqft   \n",
       "2     M S L Towers Near Pochamma Temple Indira Nagar    860 sqft   \n",
       "3                                nizampet main road   1,250 sqft   \n",
       "4                                        Tara Nagar   1,600 sqft   \n",
       "5                                        rajiv nagar  1,186 sqft   \n",
       "6                   Behind Venkateswara Swamy temple    902 sqft   \n",
       "7                                    35, PJR Stadium  1,140 sqft   \n",
       "8                                         jaya nagar  1,170 sqft   \n",
       "\n",
       "             Emi     Price  \n",
       "1  ₹32,096/Month  ₹56 Lacs  \n",
       "2  ₹24,072/Month  ₹42 Lacs  \n",
       "3  ₹22,925/Month  ₹40 Lacs  \n",
       "4  ₹47,571/Month  ₹83 Lacs  \n",
       "5  ₹40,120/Month  ₹70 Lacs  \n",
       "6  ₹25,791/Month  ₹45 Lacs  \n",
       "7  ₹42,985/Month  ₹75 Lacs  \n",
       "8  ₹42,985/Month  ₹75 Lacs  "
      ]
     },
     "execution_count": 31,
     "metadata": {},
     "output_type": "execute_result"
    }
   ],
   "source": [
    "dd.index=range(1,9)\n",
    "dd"
   ]
  }
 ],
 "metadata": {
  "kernelspec": {
   "display_name": "Python 3",
   "language": "python",
   "name": "python3"
  },
  "language_info": {
   "codemirror_mode": {
    "name": "ipython",
    "version": 3
   },
   "file_extension": ".py",
   "mimetype": "text/x-python",
   "name": "python",
   "nbconvert_exporter": "python",
   "pygments_lexer": "ipython3",
   "version": "3.8.8"
  }
 },
 "nbformat": 4,
 "nbformat_minor": 5
}
